{
 "cells": [
  {
   "cell_type": "markdown",
   "metadata": {},
   "source": [
    "# Our experiments"
   ]
  },
  {
   "cell_type": "code",
   "execution_count": null,
   "metadata": {},
   "outputs": [],
   "source": []
  },
  {
   "cell_type": "markdown",
   "metadata": {},
   "source": [
    "# Experiment from github"
   ]
  },
  {
   "cell_type": "code",
   "execution_count": 1,
   "metadata": {},
   "outputs": [],
   "source": [
    "import torch\n",
    "import numpy as np\n",
    "from neural_interaction_detection import get_interactions\n",
    "from multilayer_perceptron import MLP, train, get_weights\n",
    "from utils import preprocess_data, get_pairwise_auc, get_anyorder_R_precision, set_seed, print_rankings"
   ]
  },
  {
   "cell_type": "markdown",
   "metadata": {},
   "source": [
    "## Generate synthetic data with ground truth interactions"
   ]
  },
  {
   "cell_type": "code",
   "execution_count": 2,
   "metadata": {},
   "outputs": [],
   "source": [
    "use_main_effect_nets = True # toggle this to use \"main effect\" nets\n",
    "num_samples = 30000\n",
    "num_features = 10"
   ]
  },
  {
   "cell_type": "code",
   "execution_count": 3,
   "metadata": {},
   "outputs": [],
   "source": [
    "def synth_func(X):\n",
    "    X1, X2, X3, X4, X5, X6, X7, X8, X9, X10 = X.transpose()\n",
    "\n",
    "    interaction1 = np.exp(np.abs(X1-X2))                        \n",
    "    interaction2 = np.abs(X2*X3)  \n",
    "    interaction3 = -1*(X3**2)**np.abs(X4) \n",
    "    interaction4 = (X1*X4)**2\n",
    "    interaction5 = np.log(X4**2 + X5**2 + X7**2 + X8**2)\n",
    "    main_effects = X9 + 1/(1 + X10**2)\n",
    "\n",
    "    Y =              interaction1 + interaction2 + interaction3 + interaction4 + interaction5 + main_effects\n",
    "    ground_truth = [     {1,2},        {2,3},         {3,4},         {1,4},        {4,5,7,8}     ]\n",
    "    \n",
    "    return Y, ground_truth"
   ]
  },
  {
   "cell_type": "code",
   "execution_count": 4,
   "metadata": {},
   "outputs": [],
   "source": [
    "set_seed(42)\n",
    "X = np.random.uniform(low=-1, high=1, size=(num_samples,num_features))\n",
    "Y, ground_truth = synth_func(X)\n",
    "data_loaders = preprocess_data(X, Y, valid_size=10000, test_size=10000, std_scale=True, get_torch_loaders=True)"
   ]
  },
  {
   "cell_type": "markdown",
   "metadata": {},
   "source": [
    "## Train a multilayer perceptron (MLP)"
   ]
  },
  {
   "cell_type": "code",
   "execution_count": 5,
   "metadata": {},
   "outputs": [],
   "source": [
    "device = torch.device(\"cpu\")\n",
    "model = MLP(num_features, [140, 100, 60, 20], use_main_effect_nets=use_main_effect_nets).to(device)"
   ]
  },
  {
   "cell_type": "code",
   "execution_count": 6,
   "metadata": {},
   "outputs": [
    {
     "name": "stdout",
     "output_type": "stream",
     "text": [
      "starting to train\n",
      "early stopping enabled\n",
      "[epoch 1, total 100] train loss: 0.1921, val loss: 0.0548\n",
      "[epoch 3, total 100] train loss: 0.0290, val loss: 0.0283\n",
      "[epoch 5, total 100] train loss: 0.0239, val loss: 0.0557\n",
      "[epoch 7, total 100] train loss: 0.0151, val loss: 0.0168\n",
      "[epoch 9, total 100] train loss: 0.0143, val loss: 0.0184\n",
      "[epoch 11, total 100] train loss: 0.0116, val loss: 0.0083\n",
      "[epoch 13, total 100] train loss: 0.0123, val loss: 0.0117\n",
      "[epoch 15, total 100] train loss: 0.0104, val loss: 0.0094\n",
      "[epoch 17, total 100] train loss: 0.0077, val loss: 0.0137\n",
      "[epoch 19, total 100] train loss: 0.0083, val loss: 0.0139\n",
      "[epoch 21, total 100] train loss: 0.0070, val loss: 0.0054\n",
      "[epoch 23, total 100] train loss: 0.0091, val loss: 0.0063\n",
      "[epoch 25, total 100] train loss: 0.0111, val loss: 0.0099\n",
      "[epoch 27, total 100] train loss: 0.0064, val loss: 0.0068\n",
      "early stopping!\n",
      "Finished Training. Test loss:  0.005764756351709366\n"
     ]
    }
   ],
   "source": [
    "model, mlp_loss = train(model, data_loaders, device=device, learning_rate=1e-2, l1_const = 5e-5, verbose=True)"
   ]
  },
  {
   "cell_type": "markdown",
   "metadata": {},
   "source": [
    "## Get the MLP's learned weights"
   ]
  },
  {
   "cell_type": "code",
   "execution_count": 7,
   "metadata": {},
   "outputs": [],
   "source": [
    "model_weights = get_weights(model)"
   ]
  },
  {
   "cell_type": "markdown",
   "metadata": {},
   "source": [
    "## Detect interactions from the weights"
   ]
  },
  {
   "cell_type": "code",
   "execution_count": 8,
   "metadata": {},
   "outputs": [
    {
     "name": "stdout",
     "output_type": "stream",
     "text": [
      "Pairwise interactions              Arbitrary-order interactions\n",
      "(1, 2)        7.8430                      (1, 2)        6.8951        \n",
      "(4, 8)        3.1959                      (2, 3)        2.0953        \n",
      "(5, 8)        3.0521                      (7, 8)        1.7971        \n",
      "(7, 8)        3.0290                      (4, 5, 8)     1.6026        \n",
      "(4, 5)        2.8506                      (1, 4)        1.5912        \n",
      "(2, 3)        2.6294                      (5, 7)        1.5261        \n",
      "(1, 4)        2.5037                      (3, 4)        1.3500        \n",
      "(5, 7)        2.4460                      (4, 7)        1.0580        \n",
      "(4, 7)        2.2369                      (4, 7, 8)     0.7727        \n",
      "(3, 4)        1.8870                      (4, 5, 7, 8)  0.5467        \n"
     ]
    }
   ],
   "source": [
    "anyorder_interactions = get_interactions(model_weights, one_indexed=True)\n",
    "pairwise_interactions = get_interactions(model_weights, pairwise=True, one_indexed=True)\n",
    "\n",
    "        \n",
    "print_rankings(pairwise_interactions, anyorder_interactions, top_k=10, spacing=14)"
   ]
  },
  {
   "cell_type": "markdown",
   "metadata": {},
   "source": [
    "## Evaluate the interactions"
   ]
  },
  {
   "cell_type": "code",
   "execution_count": 9,
   "metadata": {},
   "outputs": [
    {
     "name": "stdout",
     "output_type": "stream",
     "text": [
      "Pairwise AUC 1.0 , Any-order R-Precision 1.0\n"
     ]
    }
   ],
   "source": [
    "auc = get_pairwise_auc(pairwise_interactions, ground_truth)\n",
    "r_prec = get_anyorder_R_precision(anyorder_interactions, ground_truth)\n",
    "\n",
    "print(\"Pairwise AUC\", auc, \", Any-order R-Precision\", r_prec)"
   ]
  }
 ],
 "metadata": {
  "kernelspec": {
   "display_name": "Python 3",
   "language": "python",
   "name": "python3"
  },
  "language_info": {
   "codemirror_mode": {
    "name": "ipython",
    "version": 3
   },
   "file_extension": ".py",
   "mimetype": "text/x-python",
   "name": "python",
   "nbconvert_exporter": "python",
   "pygments_lexer": "ipython3",
   "version": "3.12.8"
  }
 },
 "nbformat": 4,
 "nbformat_minor": 2
}
